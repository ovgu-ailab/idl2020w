{
 "cells": [
  {
   "cell_type": "code",
   "execution_count": null,
   "metadata": {},
   "outputs": [],
   "source": [
    "import tensorflow as tf\n",
    "import numpy as np\n",
    "import matplotlib.pyplot as plt"
   ]
  },
  {
   "cell_type": "code",
   "execution_count": null,
   "metadata": {},
   "outputs": [],
   "source": [
    "mnist = tf.keras.datasets.mnist\n",
    "(train_images, train_labels), (test_images, test_labels) = mnist.load_data()\n",
    "\n",
    "print(train_labels[0])\n",
    "plt.imshow(train_images[0], cmap=\"Greys_r\")\n",
    "\n",
    "# first difference: data is not reshaped to 784 anymore, but 28x28x1\n",
    "# note the 1 color channel!! this is important\n",
    "data = tf.data.Dataset.from_tensor_slices(\n",
    "    (train_images.reshape([-1, 28, 28, 1]).astype(np.float32) / 255, train_labels.astype(np.int32)))\n",
    "data = data.shuffle(buffer_size=60000).batch(128).repeat()\n",
    "\n",
    "test_data = tf.data.Dataset.from_tensor_slices(\n",
    "    (test_images.reshape([-1, 28, 28, 1]).astype(np.float32) / 255, test_labels.astype(np.int32))).batch(10000)"
   ]
  },
  {
   "cell_type": "code",
   "execution_count": null,
   "metadata": {},
   "outputs": [],
   "source": [
    "train_steps = 1000  # might need more steps\n",
    "\n",
    "# convolutional kernels/biases\n",
    "W = tf.Variable(tf.random.uniform([5, 5, 1, 16], -0.1, 0.1))\n",
    "b = tf.Variable(tf.zeros([16]))\n",
    "W1 = tf.Variable(tf.random.uniform([5, 5, 16, 32], -0.1, 0.1))\n",
    "b1 = tf.Variable(tf.zeros([32]))\n",
    "\n",
    "# fully connected layer at the end\n",
    "W_d = tf.Variable(tf.random.uniform([7*7*32, 10]))\n",
    "b_d = tf.Variable(tf.zeros([10]))\n",
    "\n",
    "varis = [W, b, W1, b1, W_d, b_d]\n",
    "\n",
    "\n",
    "# 2 conv layers, each followed by 2x2 max pool\n",
    "# you should look up the parameters in the API!\n",
    "def model(inp):\n",
    "    conv1 = tf.nn.relu(tf.nn.conv2d(inp, W, 1, padding=\"SAME\") + b)\n",
    "    conv1 = tf.nn.max_pool2d(conv1, 2, 2, padding=\"SAME\")\n",
    "    conv2 = tf.nn.relu(tf.nn.conv2d(conv1, W1, 1, padding=\"SAME\") + b1)\n",
    "    conv2 = tf.nn.max_pool2d(conv2, 2, 2, padding=\"SAME\")\n",
    "    conv2 = tf.reshape(conv2, [-1, 7*7*32])  # \"flatten\"\n",
    "\n",
    "    logits = tf.matmul(conv2, W_d) + b_d\n",
    "\n",
    "    return logits\n",
    "\n",
    "\n",
    "# Adam makes things much smoother\n",
    "opt = tf.optimizers.Adam()\n",
    "# from_logits = True!! #neverforget\n",
    "loss_fn = tf.losses.SparseCategoricalCrossentropy(from_logits=True)"
   ]
  },
  {
   "cell_type": "code",
   "execution_count": null,
   "metadata": {},
   "outputs": [],
   "source": [
    "# this basically hasn't changed\n",
    "for step, (img_batch, lbl_batch) in enumerate(data):\n",
    "    if step > train_steps:\n",
    "        break\n",
    "\n",
    "    with tf.GradientTape() as tape:\n",
    "        logits = model(img_batch)\n",
    "        xent = loss_fn(lbl_batch, logits)\n",
    "\n",
    "    grads = tape.gradient(xent, varis)\n",
    "      \n",
    "    opt.apply_gradients(zip(grads, varis))\n",
    "    \n",
    "    if not step % 100:\n",
    "        preds = tf.argmax(logits, axis=1, output_type=tf.int32)\n",
    "        acc = tf.reduce_mean(tf.cast(tf.equal(preds, lbl_batch),\n",
    "                             tf.float32))\n",
    "        print(\"Loss: {} Accuracy: {}\".format(xent, acc))\n",
    "    "
   ]
  },
  {
   "cell_type": "code",
   "execution_count": null,
   "metadata": {},
   "outputs": [],
   "source": [
    "# here's some evaluation magic ;) bonus: figure out how this works...\n",
    "# note: this should work on colab, but might crash on your machine depending on RAM\n",
    "big_test_batch = next(iter(test_data))\n",
    "test_preds = tf.argmax(model(big_test_batch[0]), axis=1,\n",
    "                       output_type=tf.int32)\n",
    "acc = tf.reduce_mean(tf.cast(tf.equal(test_preds, big_test_batch[1]),\n",
    "                             tf.float32))\n",
    "print(acc)"
   ]
  },
  {
   "cell_type": "code",
   "execution_count": null,
   "metadata": {},
   "outputs": [],
   "source": []
  }
 ],
 "metadata": {
  "kernelspec": {
   "display_name": "Python 3",
   "language": "python",
   "name": "python3"
  },
  "language_info": {
   "codemirror_mode": {
    "name": "ipython",
    "version": 3
   },
   "file_extension": ".py",
   "mimetype": "text/x-python",
   "name": "python",
   "nbconvert_exporter": "python",
   "pygments_lexer": "ipython3",
   "version": "3.6.8"
  }
 },
 "nbformat": 4,
 "nbformat_minor": 2
}
